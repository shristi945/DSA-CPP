{
 "cells": [
  {
   "cell_type": "code",
   "execution_count": null,
   "metadata": {},
   "outputs": [],
   "source": []
  },
  {
   "cell_type": "code",
   "execution_count": null,
   "metadata": {},
   "outputs": [],
   "source": []
  },
  {
   "cell_type": "code",
   "execution_count": null,
   "metadata": {},
   "outputs": [],
   "source": [
    "def l(arr,n):\n",
    "    max_len = 1\n",
    "    start = arr[0]\n",
    "    startc = arr[0]\n",
    "    i = 0\n",
    "    m = dict()\n",
    "    for ele in arr:\n",
    "        m[ele] = False\n",
    "        \n",
    "    while(i<n):\n",
    "        num = arr[i]\n",
    "        if(m[num] == False):\n",
    "            m[num] = True\n",
    "            right = num+1\n",
    "            startc = num\n",
    "            lenc = 1\n",
    "            while(right in m and m[right]==False):\n",
    "                lenc += 1\n",
    "                m[right] = True\n",
    "                right += 1\n",
    "            left = startc-1\n",
    "            while(left in m and m[left]==False):\n",
    "                startc = left\n",
    "                lenc += 1\n",
    "                m[left] = True\n",
    "                left -= 1\n",
    "            \n",
    "            if max_len == lenc:\n",
    "                mi = min(arr.index(start), arr.index(startc))\n",
    "                start = arr[mi]\n",
    "                \n",
    "            if max_len < lenc:\n",
    "                max_len = lenc\n",
    "                start = startc\n",
    "        i += 1\n",
    "    print(max_len, start)\n",
    "            \n",
    "    "
   ]
  },
  {
   "cell_type": "code",
   "execution_count": null,
   "metadata": {},
   "outputs": [],
   "source": [
    "#main\n",
    "n=7\n",
    "arr= [3, 7, 2, 1, 9, 8, 41]\n",
    "l(arr,n)"
   ]
  },
  {
   "cell_type": "code",
   "execution_count": null,
   "metadata": {},
   "outputs": [],
   "source": []
  },
  {
   "cell_type": "code",
   "execution_count": null,
   "metadata": {},
   "outputs": [],
   "source": [
    "for chunks in listDigitChunks:\n",
    "        chunks = int(chunks)\n",
    "\n",
    "    result = set(listDigitChunks)\n",
    "    return len(result)"
   ]
  },
  {
   "cell_type": "code",
   "execution_count": null,
   "metadata": {},
   "outputs": [],
   "source": []
  },
  {
   "cell_type": "code",
   "execution_count": null,
   "metadata": {},
   "outputs": [],
   "source": [
    "word = \"a1b01c001\""
   ]
  },
  {
   "cell_type": "code",
   "execution_count": null,
   "metadata": {},
   "outputs": [],
   "source": [
    "for letter in word:\n",
    "    if letter.isalpha():\n",
    "        word = word.replace(letter, \" \")\n",
    "        \n",
    "listDigitChunks = word.strip().split()\n",
    "for i in range(len(listDigitChunks)):\n",
    "    listDigitChunks[i] = int(listDigitChunks[i])\n",
    "    \n",
    "result = set(listDigitChunks)\n",
    "print(result)"
   ]
  },
  {
   "cell_type": "code",
   "execution_count": null,
   "metadata": {},
   "outputs": [],
   "source": [
    "listDigitChunks"
   ]
  },
  {
   "cell_type": "code",
   "execution_count": null,
   "metadata": {},
   "outputs": [],
   "source": [
    "s = \"(fy)(kj)(ege)r\"\n",
    "knowledge = [[\"uxhhkpvp\",\"h\"],[\"nriroroa\",\"m\"],[\"wvhiycvo\",\"z\"],[\"qsmfeing\",\"s\"],[\"hbcyqulf\",\"q\"],[\"xwgfjnrf\",\"b\"],[\"kfipazun\",\"s\"],[\"wnkrtxui\",\"u\"],[\"abwlsese\",\"e\"],[\"iimsmftc\",\"h\"],[\"pafqkquo\",\"v\"],[\"kj\",\"tzv\"],[\"fwwxotcd\",\"t\"],[\"yzgjjwjr\",\"l\"]]"
   ]
  },
  {
   "cell_type": "code",
   "execution_count": null,
   "metadata": {},
   "outputs": [],
   "source": [
    "import re\n",
    "d = {k: v for k, v in knowledge}\n",
    "res = re.findall(r'\\(.*?\\)', s)\n",
    "for i in range(len(res)):\n",
    "    res[i] = res[i].replace('(', '')\n",
    "    res[i] = res[i].replace(')', '')      \n",
    "\n",
    "for key in res:\n",
    "    if key in d.keys():\n",
    "        s = s.replace('({0})'.format(key), d[key])\n",
    "    else:\n",
    "        s = s.replace('({0})'.format(key), '?')\n",
    "\n",
    "print(s)"
   ]
  },
  {
   "cell_type": "code",
   "execution_count": null,
   "metadata": {},
   "outputs": [],
   "source": []
  },
  {
   "cell_type": "code",
   "execution_count": null,
   "metadata": {},
   "outputs": [],
   "source": [
    "# {\"userId\": \"f514e661-3b77-4123-a8b6-fc918dbef03d\",\"surveyId\": \"cfb65746-b252-4c1f-a97f-e8c44bf21e30\",\"questionId\": \"7ef42f9d-ad7e-4707-8a09-2c662ad2285e\",\"questionName\": \"Test Question 1?\",\"options\": [{\"optionId\": \"b799d0ec-a3a5-468b-9326-b3508280418f\",\"optionName\": \"opt 2\",\"actions\": [{\"value\": \"30-40\",\"key\": \"age\"},{\"value\": \"tea\", \"key\":\"interest\"}]}]}"
   ]
  },
  {
   "cell_type": "code",
   "execution_count": 1,
   "metadata": {},
   "outputs": [],
   "source": [
    "survey_response_dict = {\n",
    "  \"userId\": \"f514e661-3b77-4123-a8b6-fc918dbef03d\",\n",
    "  \"surveyId\": \"fc62740c-c679-498c-ae91-a94c67a7cc2a\",\n",
    "  \"questionId\": \"d35b0f07-54b3-49b3-b329-9422e4721cae\",\n",
    "  \"questionName\": \"Which car do you have?\",\n",
    "  \"questionType\": \"Text\",\n",
    "  \"options\": [],\n",
    "  \"actions\": [\n",
    "    {\n",
    "      \"value\": \"\",\n",
    "      \"key\": \"interestedIn\"\n",
    "    },\n",
    "    {\n",
    "      \"value\": \"\",\n",
    "      \"key\": \"owns\"\n",
    "    }\n",
    "  ],\n",
    "  \"respText\": \"i have swift car\"\n",
    "}"
   ]
  },
  {
   "cell_type": "code",
   "execution_count": 2,
   "metadata": {},
   "outputs": [
    {
     "data": {
      "text/plain": [
       "{'userId': 'f514e661-3b77-4123-a8b6-fc918dbef03d',\n",
       " 'surveyId': 'fc62740c-c679-498c-ae91-a94c67a7cc2a',\n",
       " 'questionId': 'd35b0f07-54b3-49b3-b329-9422e4721cae',\n",
       " 'questionName': 'Which car do you have?',\n",
       " 'questionType': 'Text',\n",
       " 'options': [],\n",
       " 'actions': [{'value': '', 'key': 'interestedIn'},\n",
       "  {'value': '', 'key': 'owns'}],\n",
       " 'respText': 'i have swift car'}"
      ]
     },
     "execution_count": 2,
     "metadata": {},
     "output_type": "execute_result"
    }
   ],
   "source": [
    "survey_response_dict"
   ]
  },
  {
   "cell_type": "code",
   "execution_count": 4,
   "metadata": {},
   "outputs": [],
   "source": [
    "category_list = [\"BMW\", \"Swift\"]\n",
    "if(survey_response_dict['questionType']==\"Text\"):\n",
    "    for action_dictionary in survey_response_dict['actions']:\n",
    "        action_dictionary['value'] = category_list\n",
    "    "
   ]
  },
  {
   "cell_type": "code",
   "execution_count": 5,
   "metadata": {},
   "outputs": [
    {
     "data": {
      "text/plain": [
       "{'userId': 'f514e661-3b77-4123-a8b6-fc918dbef03d',\n",
       " 'surveyId': 'fc62740c-c679-498c-ae91-a94c67a7cc2a',\n",
       " 'questionId': 'd35b0f07-54b3-49b3-b329-9422e4721cae',\n",
       " 'questionName': 'Which car do you have?',\n",
       " 'questionType': 'Text',\n",
       " 'options': [],\n",
       " 'actions': [{'value': ['BMW', 'Swift'], 'key': 'interestedIn'},\n",
       "  {'value': ['BMW', 'Swift'], 'key': 'owns'}],\n",
       " 'respText': 'i have swift car'}"
      ]
     },
     "execution_count": 5,
     "metadata": {},
     "output_type": "execute_result"
    }
   ],
   "source": [
    "survey_response_dict"
   ]
  },
  {
   "cell_type": "code",
   "execution_count": 17,
   "metadata": {},
   "outputs": [],
   "source": [
    "message = {}\n",
    "survey_response_nlp_extracted = {}\n",
    "survey_response_nlp_extracted['userid'] = survey_response_dict['userId']"
   ]
  },
  {
   "cell_type": "code",
   "execution_count": 21,
   "metadata": {},
   "outputs": [
    {
     "name": "stdout",
     "output_type": "stream",
     "text": [
      "{'optionId': 'b799d0ec-a3a5-468b-9326-b3508280418f', 'optionName': 'opt 1', 'actions': [{'value': '30-40', 'key': 'age'}, {'optionId': 'b799d0ec-a3a5-468b-9326-b3508280418f', 'optionName': 'opt 4', 'actions': [{'value': '60-80', 'key': 'age'}]}]}\n",
      "n\n",
      "{'value': '30-40', 'key': 'age'}\n",
      "newline\n",
      "{'optionId': 'b799d0ec-a3a5-468b-9326-b3508280418f', 'optionName': 'opt 4', 'actions': [{'value': '60-80', 'key': 'age'}]}\n",
      "newline\n"
     ]
    }
   ],
   "source": [
    "for option in survey_response_dict['options']:\n",
    "    print(option)\n",
    "    print(\"n\")\n",
    "    for action_dictionary in option['actions']:\n",
    "        print(action_dictionary)\n",
    "        print(\"newline\")\n",
    "#         message[action_dictionary['key']] = action_dictionary['value']\n",
    "    "
   ]
  },
  {
   "cell_type": "code",
   "execution_count": null,
   "metadata": {},
   "outputs": [],
   "source": []
  },
  {
   "cell_type": "code",
   "execution_count": 33,
   "metadata": {},
   "outputs": [],
   "source": [
    "survey_response_nlp_extracted['message'] = message"
   ]
  },
  {
   "cell_type": "code",
   "execution_count": 32,
   "metadata": {},
   "outputs": [
    {
     "data": {
      "text/plain": [
       "{'interest': 'tea', 'age': '30-40'}"
      ]
     },
     "execution_count": 32,
     "metadata": {},
     "output_type": "execute_result"
    }
   ],
   "source": [
    "message"
   ]
  },
  {
   "cell_type": "code",
   "execution_count": 34,
   "metadata": {},
   "outputs": [
    {
     "data": {
      "text/plain": [
       "{'userid': 'f514e661-3b77-4123-a8b6-fc918dbef03d',\n",
       " 'message': {'interest': 'tea', 'age': '30-40'}}"
      ]
     },
     "execution_count": 34,
     "metadata": {},
     "output_type": "execute_result"
    }
   ],
   "source": [
    "survey_response_nlp_extracted"
   ]
  },
  {
   "cell_type": "code",
   "execution_count": null,
   "metadata": {},
   "outputs": [],
   "source": []
  },
  {
   "cell_type": "code",
   "execution_count": null,
   "metadata": {},
   "outputs": [],
   "source": []
  },
  {
   "cell_type": "code",
   "execution_count": null,
   "metadata": {},
   "outputs": [],
   "source": []
  },
  {
   "cell_type": "code",
   "execution_count": null,
   "metadata": {},
   "outputs": [],
   "source": []
  },
  {
   "cell_type": "code",
   "execution_count": null,
   "metadata": {},
   "outputs": [],
   "source": [
    "{\"userId\": \"f514e661-3b77-4123-a8b6-fc918dbef03d\", \"surveyId\": \"cfb65746-b252-4c1f-a97f-e8c44bf21e30\", \"questionId\": \"7ef42f9d-ad7e-4707-8a09-2c662ad2285e\", \"questionName\": \"Test Question 2?\", \"questionType\":\"Multi Option\", \"actions\": [], \"options\": [{ \"optionId\": \"b799d0ec-a3a5-468b-9326-b3508280418f\", \"optionName\": \"opt 1\", \"actions\": [{ \"value\": \"30-40\", \"key\": \"age\" }, { \"optionId\": \"b799d0ec-a3a5-468b-9326-b3508280418f\", \"optionName\": \"opt 4\", \"actions\": [{ \"value\": \"60-80\", \"key\": \"age\" }]}]}"
   ]
  },
  {
   "cell_type": "code",
   "execution_count": 7,
   "metadata": {},
   "outputs": [],
   "source": [
    "import spacy\n",
    "import re"
   ]
  },
  {
   "cell_type": "code",
   "execution_count": 8,
   "metadata": {},
   "outputs": [],
   "source": [
    "nlp = spacy.load('en_core_web_sm')"
   ]
  },
  {
   "cell_type": "code",
   "execution_count": 9,
   "metadata": {},
   "outputs": [],
   "source": [
    "# function to remove special characters\n",
    "def textCleaning(user_text):\n",
    "    user_text = user_text.strip()\n",
    "    pat = r'[^a-zA-z0-9.!?\\s]'\n",
    "    return re.sub(pat, '', user_text)"
   ]
  },
  {
   "cell_type": "code",
   "execution_count": 10,
   "metadata": {},
   "outputs": [],
   "source": [
    "def wordTokenization(survey_text_sents):\n",
    "    doc = nlp(survey_text_sents)\n",
    "\n",
    "    # Create list of word tokens\n",
    "    token_list = []\n",
    "    for token in doc:\n",
    "        if token.pos_ in ['PROPN', 'NOUN']:\n",
    "            token_list.append(token.text)\n",
    "    return token_list"
   ]
  },
  {
   "cell_type": "code",
   "execution_count": 19,
   "metadata": {},
   "outputs": [],
   "source": [
    "def surveyTextResponseParser(survey_response_text):\n",
    "    survey_response_text_clean = textCleaning(survey_response_text)\n",
    "    empty_string = \"\"\n",
    "\n",
    "    # check for empty notification text after text cleaning\n",
    "    if survey_response_text_clean is None or len(survey_response_text_clean) == 0:\n",
    "        print(\"empty survey response text or text does not contain any info.\")\n",
    "        return []\n",
    "\n",
    "    give_survey_response_category = wordTokenization(survey_response_text_clean)\n",
    "\n",
    "    if len(give_survey_response_category) == 0:\n",
    "        print(\"could not find any relevant value from survey response\")\n",
    "\n",
    "    return give_survey_response_category"
   ]
  },
  {
   "cell_type": "code",
   "execution_count": 20,
   "metadata": {},
   "outputs": [
    {
     "name": "stdout",
     "output_type": "stream",
     "text": [
      "could not find any relevant value from survey response\n"
     ]
    },
    {
     "data": {
      "text/plain": [
       "[]"
      ]
     },
     "execution_count": 20,
     "metadata": {},
     "output_type": "execute_result"
    }
   ],
   "source": [
    "surveyTextResponseParser(\"I jhsdja \")"
   ]
  },
  {
   "cell_type": "code",
   "execution_count": 10,
   "metadata": {},
   "outputs": [],
   "source": [
    "from collections import defaultdict"
   ]
  },
  {
   "cell_type": "code",
   "execution_count": 31,
   "metadata": {},
   "outputs": [],
   "source": [
    "d = {}"
   ]
  },
  {
   "cell_type": "code",
   "execution_count": 32,
   "metadata": {},
   "outputs": [],
   "source": [
    "tasks = [[1,2],[2,4],[1,2],[4,1]]"
   ]
  },
  {
   "cell_type": "code",
   "execution_count": 33,
   "metadata": {},
   "outputs": [],
   "source": [
    "for i in range(len(tasks)):\n",
    "    d[i] = tasks[i]"
   ]
  },
  {
   "cell_type": "code",
   "execution_count": 34,
   "metadata": {},
   "outputs": [
    {
     "data": {
      "text/plain": [
       "{0: [1, 2], 1: [2, 4], 2: [1, 2], 3: [4, 1]}"
      ]
     },
     "execution_count": 34,
     "metadata": {},
     "output_type": "execute_result"
    }
   ],
   "source": [
    "d"
   ]
  },
  {
   "cell_type": "code",
   "execution_count": 35,
   "metadata": {},
   "outputs": [],
   "source": [
    "d = {k: v for k, v in sorted(d.items(), key=lambda item: item[1][1])}"
   ]
  },
  {
   "cell_type": "code",
   "execution_count": 30,
   "metadata": {},
   "outputs": [
    {
     "name": "stdout",
     "output_type": "stream",
     "text": [
      "3\n",
      "0\n",
      "2\n",
      "1\n"
     ]
    }
   ],
   "source": [
    "for k,v in d.items():\n",
    "    print(k)"
   ]
  },
  {
   "cell_type": "code",
   "execution_count": null,
   "metadata": {},
   "outputs": [],
   "source": []
  },
  {
   "cell_type": "code",
   "execution_count": null,
   "metadata": {},
   "outputs": [],
   "source": []
  },
  {
   "cell_type": "code",
   "execution_count": 31,
   "metadata": {},
   "outputs": [],
   "source": [
    "import heapq\n",
    "class SeatManager:\n",
    "\n",
    "    def __init__(self,n):\n",
    "        self.d = dict()\n",
    "        self.li = list()\n",
    "            \n",
    "        for i in range(1,n+1):\n",
    "            self.d[i] = 0\n",
    "            self.li.append(i)\n",
    "        heapq.heapify(self.li)\n",
    "        \n",
    "    def reserve(self) :\n",
    "        if(all(value == 1 for value in self.d.values())):\n",
    "            return \n",
    "        else:\n",
    "            x = heapq.heappop(self.li)\n",
    "            self.d[x] = 1\n",
    "            return x\n",
    "        return\n",
    "        \n",
    "    def printd(self):\n",
    "        print(self.d)\n",
    "        \n",
    "    def unreserve(self, seatNumber):\n",
    "        if(self.d[seatNumber]==0):\n",
    "            return\n",
    "        else:\n",
    "            heapq.heappush(self.li, seatNumber)\n",
    "            self.d[seatNumber] = 0\n",
    "        return "
   ]
  },
  {
   "cell_type": "code",
   "execution_count": null,
   "metadata": {},
   "outputs": [],
   "source": []
  },
  {
   "cell_type": "code",
   "execution_count": 32,
   "metadata": {},
   "outputs": [
    {
     "name": "stdout",
     "output_type": "stream",
     "text": [
      "{1: 0, 2: 0, 3: 0, 4: 0, 5: 0}\n",
      "1\n",
      "{1: 1, 2: 0, 3: 0, 4: 0, 5: 0}\n",
      "{1: 0, 2: 0, 3: 0, 4: 0, 5: 0}\n"
     ]
    }
   ],
   "source": [
    "# Your SeatManager object will be instantiated and called as such:\n",
    "obj = SeatManager(5)\n",
    "obj.printd()\n",
    "param_1 = obj.reserve()\n",
    "print(param_1)\n",
    "obj.printd()\n",
    "obj.unreserve(1)\n",
    "obj.printd()"
   ]
  },
  {
   "cell_type": "code",
   "execution_count": null,
   "metadata": {},
   "outputs": [],
   "source": []
  },
  {
   "cell_type": "code",
   "execution_count": null,
   "metadata": {},
   "outputs": [],
   "source": []
  },
  {
   "cell_type": "code",
   "execution_count": 3,
   "metadata": {},
   "outputs": [],
   "source": [
    "string = \"string 13467jhkjhkas9e0i010\""
   ]
  },
  {
   "cell_type": "code",
   "execution_count": 4,
   "metadata": {},
   "outputs": [],
   "source": [
    "if str(2) in string:\n",
    "    print(\"yes\")"
   ]
  },
  {
   "cell_type": "code",
   "execution_count": 5,
   "metadata": {},
   "outputs": [
    {
     "data": {
      "text/plain": [
       "False"
      ]
     },
     "execution_count": 5,
     "metadata": {},
     "output_type": "execute_result"
    }
   ],
   "source": [
    "\"1249800idhsdcdk\".isnumeric()"
   ]
  },
  {
   "cell_type": "code",
   "execution_count": 9,
   "metadata": {},
   "outputs": [
    {
     "data": {
      "text/plain": [
       "False"
      ]
     },
     "execution_count": 9,
     "metadata": {},
     "output_type": "execute_result"
    }
   ],
   "source": [
    "\"77\".isnumeric()"
   ]
  },
  {
   "cell_type": "code",
   "execution_count": 10,
   "metadata": {},
   "outputs": [
    {
     "name": "stdout",
     "output_type": "stream",
     "text": [
      "11\n",
      "25\n",
      "15\n",
      "21\n",
      "22\n"
     ]
    }
   ],
   "source": [
    "import sys\n",
    "\n",
    "FACE_CARDS = ['J', 'Q', 'K']\n",
    "\n",
    "\n",
    "def score_hand(hand):\n",
    "    '''\n",
    "    Calculate the total score of the hand.\n",
    "    '''\n",
    "    hand_score = 0\n",
    "\n",
    "    for card in hand:\n",
    "        if card in FACE_CARDS:\n",
    "            hand_score += 10\n",
    "            continue\n",
    "\n",
    "        if card == 'A':\n",
    "            hand_score += 1\n",
    "            if hand_score < 12:\n",
    "                hand_score += 10\n",
    "            continue\n",
    "        try:\n",
    "            hand_score += int(card)\n",
    "            continue\n",
    "        except ValueError:\n",
    "            print('Invalid card in hand: {}'.format(card))\n",
    "        except TypeError:\n",
    "            print('Card is an invalid type: {}'.format(type(card)))\n",
    "    return hand_score\n",
    "\n",
    "\n",
    "print(str(score_hand(['A'])))\n",
    "print(str(score_hand(['5', '4', '3', '2', 'A', 'K'])))\n",
    "print(str(score_hand(['5', '3', '7'])))\n",
    "print(str(score_hand(['A', 'J'])))\n",
    "print(str(score_hand(['A', '10', 'A'])))"
   ]
  },
  {
   "cell_type": "code",
   "execution_count": null,
   "metadata": {},
   "outputs": [],
   "source": []
  },
  {
   "cell_type": "code",
   "execution_count": 3,
   "metadata": {},
   "outputs": [],
   "source": [
    "string = \"210\""
   ]
  },
  {
   "cell_type": "code",
   "execution_count": 5,
   "metadata": {},
   "outputs": [],
   "source": [
    "x = int(string)"
   ]
  },
  {
   "cell_type": "code",
   "execution_count": 6,
   "metadata": {},
   "outputs": [
    {
     "data": {
      "text/plain": [
       "210"
      ]
     },
     "execution_count": 6,
     "metadata": {},
     "output_type": "execute_result"
    }
   ],
   "source": [
    "x"
   ]
  },
  {
   "cell_type": "code",
   "execution_count": null,
   "metadata": {},
   "outputs": [],
   "source": []
  },
  {
   "cell_type": "code",
   "execution_count": null,
   "metadata": {},
   "outputs": [],
   "source": []
  },
  {
   "cell_type": "code",
   "execution_count": null,
   "metadata": {},
   "outputs": [],
   "source": []
  },
  {
   "cell_type": "code",
   "execution_count": null,
   "metadata": {},
   "outputs": [],
   "source": []
  },
  {
   "cell_type": "code",
   "execution_count": null,
   "metadata": {},
   "outputs": [],
   "source": []
  }
 ],
 "metadata": {
  "kernelspec": {
   "display_name": "Python 3",
   "language": "python",
   "name": "python3"
  },
  "language_info": {
   "codemirror_mode": {
    "name": "ipython",
    "version": 3
   },
   "file_extension": ".py",
   "mimetype": "text/x-python",
   "name": "python",
   "nbconvert_exporter": "python",
   "pygments_lexer": "ipython3",
   "version": "3.7.4"
  }
 },
 "nbformat": 4,
 "nbformat_minor": 2
}
